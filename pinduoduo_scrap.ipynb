{
 "cells": [
  {
   "cell_type": "code",
   "execution_count": 2,
   "metadata": {},
   "outputs": [],
   "source": [
    "from selenium import webdriver\n",
    "from selenium.webdriver.common.by import By"
   ]
  },
  {
   "cell_type": "code",
   "execution_count": 15,
   "metadata": {},
   "outputs": [
    {
     "name": "stdout",
     "output_type": "stream",
     "text": [
      "花花公子男士帽子秋冬毛线帽防寒保暖加绒加厚骑行护耳针织帽新款\n",
      "谷巴仑厚底雪地靴女皮毛一体冬季新周冬雨同款加厚保暖面包棉鞋\n",
      "Apple iPhone 15 Pro Max 支持移动联通电信5G 双卡双待手机\n",
      "【国行】索尼(SONY)ps5新款slim体感游戏机PS5家用游戏机主机\n",
      "新货带皮腰果袋装盐焗炭烧腰果仁即食坚果干果越南熟紫皮零食批发\n",
      "防爆保暖橡胶注热水袋热水袋注水式家用冲水暖水袋老人灌水热水袋\n",
      "挂钩强力粘胶贴墙壁壁挂厨房挂勾无痕免打孔门后浴室创意可爱粘钩\n",
      "五粮液整箱52度八代普五正品浓香型白酒整箱500ml*6瓶年份随机发\n",
      "Apple iPhone 15 Pro Max 支持移动联通电信5G 双卡双待手机\n",
      "苹果(Apple)iPad Pro2022款11英寸M2芯片平板电脑全新国行正品\n"
     ]
    }
   ],
   "source": [
    "browser = webdriver.Edge()\n",
    "browser.maximize_window()\n",
    "url = 'https://mobile.pinduoduo.com/'\n",
    "browser.get(url)\n",
    "elements = browser.find_elements(By.CLASS_NAME,'_26E9cC8o')\n",
    "for i in elements: \n",
    "    i_list = i.find_elements(By.CLASS_NAME, 'J9WPy2Wu')\n",
    "    for j in i_list: \n",
    "        print(j.text)\n",
    "browser.quit()\n"
   ]
  }
 ],
 "metadata": {
  "kernelspec": {
   "display_name": "Python 3",
   "language": "python",
   "name": "python3"
  },
  "language_info": {
   "codemirror_mode": {
    "name": "ipython",
    "version": 3
   },
   "file_extension": ".py",
   "mimetype": "text/x-python",
   "name": "python",
   "nbconvert_exporter": "python",
   "pygments_lexer": "ipython3",
   "version": "3.10.11"
  },
  "orig_nbformat": 4
 },
 "nbformat": 4,
 "nbformat_minor": 2
}
